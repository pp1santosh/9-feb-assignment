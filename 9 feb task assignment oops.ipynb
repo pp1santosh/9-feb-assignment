{
 "cells": [
  {
   "cell_type": "code",
   "execution_count": null,
   "id": "ced53966-fa39-47a0-81ff-8b42a30daac9",
   "metadata": {},
   "outputs": [],
   "source": [
    "#1 sol\n",
    "class vehicle:\n",
    "    def __init__(self, name_of_vehicle, max_speed , average_of_vehicle):\n",
    "        self. name_of_vehicle= name_of_vehicle\n",
    "        self. max_speed = max_speed \n",
    "        self. average_of_vehicle= average_of_vehicle\n",
    "net=vehicle(\"honda\",\"150 km/hr\",\"60 kmpl\")\n",
    "net. average_of_vehicle\n"
   ]
  },
  {
   "cell_type": "code",
   "execution_count": null,
   "id": "33453363-eace-40de-bd8c-97bc617a7ad5",
   "metadata": {},
   "outputs": [],
   "source": [
    "#2 sol\n",
    "class childcar(vehicle):\n",
    "        def seating_capacity(self,capacity ):\n",
    "            self.capacity=capacity\n",
    "            print(self.name_of_vehicle,'sitting capacity=',self.capacity)\n",
    "gem=childcar(\"honda\",\"150 km/hr\",\"60 kmpl\")\n",
    "gem.seating_capacity(8)"
   ]
  },
  {
   "cell_type": "code",
   "execution_count": null,
   "id": "7fb9f381-c39e-4d66-b0f8-a3c401f38252",
   "metadata": {},
   "outputs": [],
   "source": [
    "#3 sol,in multiple inheritance a class occupies method and attributes of two or more classes.\n",
    "class close:\n",
    "    def twowheeler(self):\n",
    "        print(\"its a two wheeler bike\")\n",
    "#showing multiple inheritance by inheriting two class \"childcar and close in third class multi        \n",
    "class multi(childcar,close):\n",
    "    pass\n",
    "new=multi(\"yamha\",\"200km/h\",\"65 kmpl\")\n",
    "new.seating_capacity(\"6\" )\n",
    "new.name_of_vehicle\n",
    "new.twowheeler()"
   ]
  },
  {
   "cell_type": "code",
   "execution_count": null,
   "id": "54158acb-bda3-4346-bd99-e51e50ce9b6c",
   "metadata": {},
   "outputs": [],
   "source": [
    "#4.getters and setters are used to provide option of  edit or acesses private attribute of a class by external user\n",
    "class laptop_price:\n",
    "    def __init__(self,real_price,dealer_price,consumer_price):\n",
    "        self.__real_price=real_price\n",
    "        self.__dealer_price=dealer_price\n",
    "        self.consumer_price=consumer_price\n",
    "    @property    \n",
    "    def get_price(self):\n",
    "        return self.__real_price\n",
    "    @get_price.setter\n",
    "    def price_edit(self,new):\n",
    "        self.__real_price=new\n",
    "        "
   ]
  },
  {
   "cell_type": "code",
   "execution_count": null,
   "id": "3be50eaf-c595-4c83-bcad-0748e1b81cff",
   "metadata": {},
   "outputs": [],
   "source": [
    "cl=laptop_price(22000,35000,50000)\n",
    "cl.price_edit=20000\n",
    "cl.get_price\n"
   ]
  },
  {
   "cell_type": "code",
   "execution_count": 1,
   "id": "16149cd1-0c97-4863-afe0-9b8a99db64c2",
   "metadata": {},
   "outputs": [
    {
     "name": "stdout",
     "output_type": "stream",
     "text": [
      " the physical apperance of parent 5 feet 6 inch 65 black\n",
      "i am 5 feet 7 inch tall,blue eye,70 kg boy\n"
     ]
    }
   ],
   "source": [
    "#5 sol method over ridding means overlaping child class method with parent class method having same name.\n",
    "class parent:\n",
    "    def __init__(self,height,weight,eycolor):\n",
    "        self.height=height\n",
    "        self.weight=weight\n",
    "        self.eyecolor=eycolor\n",
    "    def physical(self):\n",
    "        print(\" the physical apperance of parent\",  self.height,self.weight,self.eyecolor)\n",
    "let=parent('5 feet 6 inch',65,'black')\n",
    "let.physical()\n",
    "# child class\n",
    "class child(parent):\n",
    "    def physical():\n",
    "        print(\"i am 5 feet 7 inch tall,blue eye,70 kg boy\")\n",
    "    \n",
    "uv=child\n",
    "uv.physical()\n",
    "    "
   ]
  }
 ],
 "metadata": {
  "kernelspec": {
   "display_name": "Python 3 (ipykernel)",
   "language": "python",
   "name": "python3"
  },
  "language_info": {
   "codemirror_mode": {
    "name": "ipython",
    "version": 3
   },
   "file_extension": ".py",
   "mimetype": "text/x-python",
   "name": "python",
   "nbconvert_exporter": "python",
   "pygments_lexer": "ipython3",
   "version": "3.10.8"
  }
 },
 "nbformat": 4,
 "nbformat_minor": 5
}
